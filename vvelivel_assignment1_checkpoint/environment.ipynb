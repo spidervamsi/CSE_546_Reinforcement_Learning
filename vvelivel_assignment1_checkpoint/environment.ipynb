{
  "nbformat": 4,
  "nbformat_minor": 0,
  "metadata": {
    "colab": {
      "name": "environment.ipynb",
      "provenance": []
    },
    "kernelspec": {
      "name": "python3",
      "display_name": "Python 3"
    }
  },
  "cells": [
    {
      "cell_type": "code",
      "metadata": {
        "id": "auRPglCTNFyn",
        "colab_type": "code",
        "colab": {
          "base_uri": "https://localhost:8080/",
          "height": 119
        },
        "outputId": "f57946d5-381a-4acf-908f-a431d29c1f20"
      },
      "source": [
        "!pip install gym"
      ],
      "execution_count": 1,
      "outputs": [
        {
          "output_type": "stream",
          "text": [
            "Requirement already satisfied: gym in /usr/local/lib/python3.6/dist-packages (0.17.2)\n",
            "Requirement already satisfied: cloudpickle<1.4.0,>=1.2.0 in /usr/local/lib/python3.6/dist-packages (from gym) (1.3.0)\n",
            "Requirement already satisfied: scipy in /usr/local/lib/python3.6/dist-packages (from gym) (1.4.1)\n",
            "Requirement already satisfied: numpy>=1.10.4 in /usr/local/lib/python3.6/dist-packages (from gym) (1.18.5)\n",
            "Requirement already satisfied: pyglet<=1.5.0,>=1.4.0 in /usr/local/lib/python3.6/dist-packages (from gym) (1.5.0)\n",
            "Requirement already satisfied: future in /usr/local/lib/python3.6/dist-packages (from pyglet<=1.5.0,>=1.4.0->gym) (0.16.0)\n"
          ],
          "name": "stdout"
        }
      ]
    },
    {
      "cell_type": "code",
      "metadata": {
        "id": "qSm5TRNcNPAe",
        "colab_type": "code",
        "colab": {}
      },
      "source": [
        "import numpy as np\n",
        "import matplotlib.pyplot as plt\n",
        "import gym\n",
        "from gym import spaces\n",
        "import random"
      ],
      "execution_count": 2,
      "outputs": []
    },
    {
      "cell_type": "markdown",
      "metadata": {
        "id": "qjdSE7wFvxmG",
        "colab_type": "text"
      },
      "source": [
        "# **Deterministic Environment**"
      ]
    },
    {
      "cell_type": "code",
      "metadata": {
        "id": "Z0V4NvOkNXAy",
        "colab_type": "code",
        "colab": {}
      },
      "source": [
        "class deterministicEnv(gym.Env):\n",
        "  metadata = {'render.modes':[]}\n",
        "  def __init__(self):\n",
        "    self.observation_space = spaces.Discrete(36)\n",
        "    self.action_space = spaces.Discrete(4)\n",
        "    self.maxtimesteps=40\n",
        "    self.rewardStates = dict()\n",
        "    self.rewardStates[(5,5)] = 3\n",
        "    self.rewardStates[(3,3)] = 1\n",
        "    self.rewardStates[(4,3)] = 2\n",
        "    self.rewardStates[(4,5)] = 2\n",
        "\n",
        "  def reset(self):\n",
        "    self.timesteps = 0\n",
        "    self.agent_pos = [0,0]\n",
        "    self.goal_pos = [5,5]\n",
        "    self.state = np.zeros((6,6))\n",
        "    self.state[tuple(self.agent_pos)] = 1\n",
        "    self.state[tuple(self.goal_pos)] = 0.5\n",
        "\n",
        "    observation = self.state.flatten()\n",
        "    return observation\n",
        "\n",
        "\n",
        "\n",
        "  def step(self,action):\n",
        "    self.state = np.random.choice(self.observation_space.n)\n",
        "    if action == 0: #down\n",
        "      self.agent_pos[0] +=1\n",
        "    elif action==1: #up\n",
        "      self.agent_pos[0] -=1\n",
        "    elif action==2:#right\n",
        "      self.agent_pos[1] += 1\n",
        "    elif action==3: #left\n",
        "      self.agent_pos[1] -= 1\n",
        "    \n",
        "    self.agent_pos = np.clip(self.agent_pos,0,5)\n",
        "    self.state = np.zeros((6,6))\n",
        "    self.state[tuple(self.agent_pos)] = 1\n",
        "    self.state[tuple(self.goal_pos)] = 0.5\n",
        "    observation = self.state.flatten()\n",
        "    reward = 0\n",
        "    if tuple(self.agent_pos) in self.rewardStates: #Checking if agent is in reward position\n",
        "      reward = self.rewardStates[tuple(self.agent_pos)]\n",
        "\n",
        "    self.timesteps +=1\n",
        "    done = True if self.timesteps >= self.maxtimesteps else False #Ensuring Safety in AI\n",
        "    info = {}\n",
        "\n",
        "    return observation, reward, done, info\n",
        "\n",
        "\n",
        "\n",
        "  def render(self):\n",
        "    plt.imshow(self.state)"
      ],
      "execution_count": 4,
      "outputs": []
    },
    {
      "cell_type": "code",
      "metadata": {
        "id": "Wn4-OK_vOYng",
        "colab_type": "code",
        "colab": {
          "base_uri": "https://localhost:8080/",
          "height": 265
        },
        "outputId": "6c131a8d-b7c5-4d9f-8c00-1f3ce58fc497"
      },
      "source": [
        "grid = deterministicEnv()\n",
        "grid.reset()\n",
        "grid.step(0)\n",
        "grid.step(2)\n",
        "grid.render()"
      ],
      "execution_count": 18,
      "outputs": [
        {
          "output_type": "display_data",
          "data": {
            "image/png": "[encoded data removed]",
            "text/plain": [
              "<Figure size 432x288 with 1 Axes>"
            ]
          },
          "metadata": {
            "tags": [],
            "needs_background": "light"
          }
        }
      ]
    },
    {
      "cell_type": "markdown",
      "metadata": {
        "id": "2lsNKuymwHnD",
        "colab_type": "text"
      },
      "source": [
        "# **Stochastic Environment**"
      ]
    },
    {
      "cell_type": "code",
      "metadata": {
        "id": "7xZYZbScOdgo",
        "colab_type": "code",
        "colab": {}
      },
      "source": [
        "class stochasticEnv(gym.Env):\n",
        "  metadata = {'render.modes':[]}\n",
        "  def __init__(self):\n",
        "    self.observation_space = spaces.Discrete(36)\n",
        "    self.action_space = spaces.Discrete(4)\n",
        "    self.maxtimesteps=40\n",
        "    self.rewardStates = dict()\n",
        "    self.rewardStates[(5,5)] = 3\n",
        "    self.rewardStates[(3,3)] = 1\n",
        "    self.rewardStates[(4,3)] = 2\n",
        "    self.rewardStates[(4,5)] = 2\n",
        "\n",
        "  def reset(self):\n",
        "    self.timesteps = 0\n",
        "    self.agent_pos = [0,0]\n",
        "    self.goal_pos = [5,5]\n",
        "    self.state = np.zeros((6,6))\n",
        "    self.state[tuple(self.agent_pos)] = 1\n",
        "    self.state[tuple(self.goal_pos)] = 0.5\n",
        "\n",
        "    observation = self.state.flatten()\n",
        "    return observation\n",
        "\n",
        "\n",
        "\n",
        "  def step(self,action):\n",
        "    self.state = np.random.choice(self.observation_space.n)\n",
        "    if action == 0: #down\n",
        "      self.agent_pos[0] +=1\n",
        "    elif action==1: #up   \n",
        " #Declared a probability for action up. If it's less than 0.2, it should take left or else stay in its current state\n",
        "      if random.uniform(0, 1)<0.2: \n",
        "        self.agent_pos[0] -=1\n",
        "    elif action==2: #right\n",
        "      self.agent_pos[1] += 1\n",
        "    elif action==3: #left\n",
        "#Declared a probability for action left. If it's less than 0.2, it should take left or else stay in its current state\n",
        "      if random.uniform(0, 1)<0.2:\n",
        "        self.agent_pos[1] -= 1\n",
        "    \n",
        "    self.agent_pos = np.clip(self.agent_pos,0,5)\n",
        "    self.state = np.zeros((6,6))\n",
        "    self.state[tuple(self.agent_pos)] = 1\n",
        "    self.state[tuple(self.goal_pos)] = 0.5\n",
        "    observation = self.state.flatten()\n",
        "\n",
        "    reward = 0\n",
        "    if tuple(self.agent_pos) in self.rewardStates:\n",
        "      reward = self.rewardStates[tuple(self.agent_pos)]\n",
        "\n",
        "    self.timesteps +=1\n",
        "    done = True if self.timesteps >= self.maxtimesteps else False #Ensuring Safety in AI\n",
        "    info = {}\n",
        "\n",
        "    return observation, reward, done, info\n",
        "\n",
        "\n",
        "\n",
        "  def render(self):\n",
        "    plt.imshow(self.state)"
      ],
      "execution_count": 14,
      "outputs": []
    },
    {
      "cell_type": "code",
      "metadata": {
        "id": "C0xIMZd7Rc91",
        "colab_type": "code",
        "colab": {
          "base_uri": "https://localhost:8080/",
          "height": 265
        },
        "outputId": "0670b08e-2061-4372-919b-9a44a6259116"
      },
      "source": [
        "grid = stochasticEnv()\n",
        "grid.reset()\n",
        "grid.step(2)\n",
        "grid.step(0)\n",
        "grid.step(2)\n",
        "grid.step(3) #didn't take left\n",
        "grid.render()\n",
        "grid.render()"
      ],
      "execution_count": 22,
      "outputs": [
        {
          "output_type": "display_data",
          "data": {
            "image/png": "[encoded data removed]",
            "text/plain": [
              "<Figure size 432x288 with 1 Axes>"
            ]
          },
          "metadata": {
            "tags": [],
            "needs_background": "light"
          }
        }
      ]
    }
  ]
}