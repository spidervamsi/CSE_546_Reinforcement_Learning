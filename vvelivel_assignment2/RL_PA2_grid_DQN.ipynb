{
  "nbformat": 4,
  "nbformat_minor": 0,
  "metadata": {
    "colab": {
      "name": "RL_PA2_grid_DQN.ipynb",
      "provenance": [],
      "machine_shape": "hm"
    },
    "kernelspec": {
      "name": "python3",
      "display_name": "Python 3"
    },
    "accelerator": "GPU"
  },
  "cells": [
    {
      "cell_type": "markdown",
      "metadata": {
        "id": "5XzHIiM0jgoW"
      },
      "source": [
        "# Downloads\n"
      ]
    },
    {
      "cell_type": "code",
      "metadata": {
        "id": "2ctWf6Mk6e4U",
        "outputId": "8b4e7562-3d01-44bb-bcce-cde3158ce9fe",
        "colab": {
          "base_uri": "https://localhost:8080/"
        }
      },
      "source": [
        "!pip install gym"
      ],
      "execution_count": 7,
      "outputs": [
        {
          "output_type": "stream",
          "text": [
            "Requirement already satisfied: gym in /usr/local/lib/python3.6/dist-packages (0.17.3)\n",
            "Requirement already satisfied: scipy in /usr/local/lib/python3.6/dist-packages (from gym) (1.4.1)\n",
            "Requirement already satisfied: cloudpickle<1.7.0,>=1.2.0 in /usr/local/lib/python3.6/dist-packages (from gym) (1.3.0)\n",
            "Requirement already satisfied: numpy>=1.10.4 in /usr/local/lib/python3.6/dist-packages (from gym) (1.18.5)\n",
            "Requirement already satisfied: pyglet<=1.5.0,>=1.4.0 in /usr/local/lib/python3.6/dist-packages (from gym) (1.5.0)\n",
            "Requirement already satisfied: future in /usr/local/lib/python3.6/dist-packages (from pyglet<=1.5.0,>=1.4.0->gym) (0.16.0)\n"
          ],
          "name": "stdout"
        }
      ]
    },
    {
      "cell_type": "code",
      "metadata": {
        "id": "GULGB6GV91EI"
      },
      "source": [
        "import gym\n",
        "import math\n",
        "import random\n",
        "import numpy as np\n",
        "import matplotlib\n",
        "import matplotlib.pyplot as plt\n",
        "from collections import namedtuple\n",
        "from itertools import count\n",
        "from PIL import Image\n",
        "\n",
        "import torch as T\n",
        "import torch.nn as nn\n",
        "import torch.nn.functional as F\n",
        "import torch.optim as optim\n",
        "import numpy as np"
      ],
      "execution_count": 8,
      "outputs": []
    },
    {
      "cell_type": "code",
      "metadata": {
        "id": "foM_tz9U6nBp"
      },
      "source": [
        "import numpy as np\n",
        "import matplotlib.pyplot as plt\n",
        "import gym\n",
        "from gym import spaces\n",
        "import random\n",
        "from google.colab import widgets\n",
        "import time"
      ],
      "execution_count": 9,
      "outputs": []
    },
    {
      "cell_type": "markdown",
      "metadata": {
        "id": "x5PRL0SW6w0W"
      },
      "source": [
        "#Deterministic Environment"
      ]
    },
    {
      "cell_type": "code",
      "metadata": {
        "id": "Zg7xh3aX62Vm"
      },
      "source": [
        "class DeterministicEnv(gym.Env):\n",
        "  metadata = {'render.modes':[]}\n",
        "  def __init__(self):\n",
        "    self.table_dim = 6\n",
        "    self.observation_space = spaces.Discrete(self.table_dim*self.table_dim)\n",
        "    self.action_space = spaces.Discrete(4)\n",
        "    self.maxtimesteps=15 #change\n",
        "    self.rewardStates = dict()\n",
        "\n",
        "    for i in range(self.table_dim):\n",
        "      for j in range(self.table_dim):\n",
        "        self.rewardStates[(i,j)] = -0.05\n",
        "\n",
        "    t=0.1\n",
        "    for j in range(self.table_dim):\n",
        "      self.rewardStates[(0,j)] = t\n",
        "      t+=0.1\n",
        "    for i in range(1,self.table_dim):\n",
        "      self.rewardStates[(i,self.table_dim-1)] = t\n",
        "      t+=0.05\n",
        "\n",
        "    self.rewardStates[(self.table_dim-1,self.table_dim-1)] = 1\n",
        "\n",
        "    # Print reward map\n",
        "    print(self.rewardStates)\n",
        "    for i in range(6):\n",
        "      print(\"\")\n",
        "      for j in range(6):\n",
        "        print(str(self.rewardStates[(i,j)]),end=\" \")\n",
        "\n",
        "\n",
        "  def reset(self):\n",
        "    self.timesteps = 0\n",
        "    self.agent_pos = [0,0]\n",
        "    self.goal_pos = [self.table_dim-1,self.table_dim-1]\n",
        "    self.state = np.zeros((self.table_dim,self.table_dim))\n",
        "    self.state[tuple(self.agent_pos)] = 1\n",
        "    self.state[tuple(self.goal_pos)] = 0.5\n",
        "    self.state[2,2] = 0.3\n",
        "    self.state[1,4] = 0.3\n",
        "    observation = self.state.flatten()\n",
        "    return self.agent_pos\n",
        "\n",
        "\n",
        "\n",
        "  def step(self,action):\n",
        "    self.state = np.random.choice(self.observation_space.n)\n",
        "\n",
        "    if action == 0: #down\n",
        "      self.agent_pos[0] +=1\n",
        "    elif action==1: #up\n",
        "      self.agent_pos[0] -=1\n",
        "    elif action==2:#right\n",
        "      self.agent_pos[1] += 1\n",
        "    elif action==3: #left\n",
        "      self.agent_pos[1] -= 1\n",
        "    \n",
        "    self.agent_pos = np.clip(self.agent_pos,0,self.table_dim-1)\n",
        "    self.state = np.zeros((self.table_dim,self.table_dim))\n",
        "    self.state[tuple(self.agent_pos)] = 1\n",
        "    self.state[tuple(self.goal_pos)] = 0.5\n",
        "    self.state[2,2] = 0.3\n",
        "    self.state[1,4] = 0.3\n",
        "    observation = self.state.flatten()\n",
        "    reward = 0\n",
        "    if tuple(self.agent_pos) in self.rewardStates: #Checking if agent is in reward position\n",
        "      reward = self.rewardStates[tuple(self.agent_pos)]\n",
        "\n",
        "    self.timesteps +=1\n",
        "    done = False\n",
        "    if (self.timesteps >= self.maxtimesteps) or (tuple(self.agent_pos) == tuple(self.goal_pos)):#Ensuring Safety in AI\n",
        "      done = True \n",
        "    info = {}\n",
        "\n",
        "    return self.agent_pos, reward, done, info\n",
        "\n",
        "\n",
        "\n",
        "  def render(self):\n",
        "    plt.imshow(self.state)"
      ],
      "execution_count": 10,
      "outputs": []
    },
    {
      "cell_type": "code",
      "metadata": {
        "id": "qqsN-BjKqE83",
        "outputId": "b8b56d0c-5998-4a3b-984d-2aae93e134d0",
        "colab": {
          "base_uri": "https://localhost:8080/"
        }
      },
      "source": [
        "DeterministicEnv()"
      ],
      "execution_count": 11,
      "outputs": [
        {
          "output_type": "stream",
          "text": [
            "{(0, 0): 0.1, (0, 1): 0.2, (0, 2): 0.30000000000000004, (0, 3): 0.4, (0, 4): 0.5, (0, 5): 0.6, (1, 0): -0.05, (1, 1): -0.05, (1, 2): -0.05, (1, 3): -0.05, (1, 4): -0.05, (1, 5): 0.7, (2, 0): -0.05, (2, 1): -0.05, (2, 2): -0.05, (2, 3): -0.05, (2, 4): -0.05, (2, 5): 0.75, (3, 0): -0.05, (3, 1): -0.05, (3, 2): -0.05, (3, 3): -0.05, (3, 4): -0.05, (3, 5): 0.8, (4, 0): -0.05, (4, 1): -0.05, (4, 2): -0.05, (4, 3): -0.05, (4, 4): -0.05, (4, 5): 0.8500000000000001, (5, 0): -0.05, (5, 1): -0.05, (5, 2): -0.05, (5, 3): -0.05, (5, 4): -0.05, (5, 5): 1}\n",
            "\n",
            "0.1 0.2 0.30000000000000004 0.4 0.5 0.6 \n",
            "-0.05 -0.05 -0.05 -0.05 -0.05 0.7 \n",
            "-0.05 -0.05 -0.05 -0.05 -0.05 0.75 \n",
            "-0.05 -0.05 -0.05 -0.05 -0.05 0.8 \n",
            "-0.05 -0.05 -0.05 -0.05 -0.05 0.8500000000000001 \n",
            "-0.05 -0.05 -0.05 -0.05 -0.05 1 "
          ],
          "name": "stdout"
        },
        {
          "output_type": "execute_result",
          "data": {
            "text/plain": [
              "<__main__.DeterministicEnv at 0x7f0559cdc470>"
            ]
          },
          "metadata": {
            "tags": []
          },
          "execution_count": 11
        }
      ]
    },
    {
      "cell_type": "markdown",
      "metadata": {
        "id": "195BejyBANLC"
      },
      "source": [
        "# DQN"
      ]
    },
    {
      "cell_type": "code",
      "metadata": {
        "id": "T_wuldUwAMUP"
      },
      "source": [
        "import torch as T\n",
        "import torch.nn as nn\n",
        "import torch.nn.functional as F\n",
        "import torch.optim as optim\n",
        "import numpy as np\n",
        "import random\n",
        "class DeepQNetwork(nn.Module):\n",
        "  def __init__(self,lr,input_dims,fc1_dims,fc2_dims,n_actions):\n",
        "    super(DeepQNetwork, self).__init__()\n",
        "    self.fc1_dims = fc1_dims\n",
        "    self.fc2_dims = fc2_dims\n",
        "    self.n_actions = n_actions\n",
        "    self.fc1 = nn.Linear(*input_dims,self.fc1_dims)\n",
        "    self.fc2 = nn.Linear(self.fc1_dims, self.fc2_dims)\n",
        "    self.fc3 = nn.Linear(self.fc2_dims, self.n_actions)\n",
        "    self.optimizer = optim.Adam(self.parameters(),lr=lr)\n",
        "    self.loss = nn.MSELoss()\n",
        "    self.device = T.device('cuda:0' if T.cuda.is_available() else 'cpu')\n",
        "    self.to(self.device)\n",
        "\n",
        "  def forward(self, state):\n",
        "      layer1 = F.relu(self.fc1(state.float()))\n",
        "      layer2 = F.relu(self.fc2(layer1))\n",
        "      actions = self.fc3(layer2)\n",
        "\n",
        "      return actions"
      ],
      "execution_count": 12,
      "outputs": []
    },
    {
      "cell_type": "markdown",
      "metadata": {
        "id": "dObfI1A77CqG"
      },
      "source": [
        "# Q-Learning Agent"
      ]
    },
    {
      "cell_type": "code",
      "metadata": {
        "id": "hDnC0qeP7B1c"
      },
      "source": [
        "class QlearningAgent:\n",
        "    # def __init__(self, env,epsilon=1.0,lr=0.6,gamma=0.9):\n",
        "    def __init__(self, env,input_dims,n_actions,epsilon=1.0,lr=0.6,gamma=0.9,batch_size=300,max_mem_size=1000,C=10):\n",
        "        self.env = env\n",
        "        self.observation_space = env.observation_space\n",
        "        self.action_space = env.action_space\n",
        "        # q_table_dim = env.table_dim\n",
        "\n",
        "        # self.q_table = np.zeros((q_table_dim,q_table_dim,env.action_space.n))\n",
        "        self.epsilon = epsilon\n",
        "        self.lr = lr\n",
        "        self.gamma = gamma\n",
        "\n",
        "        self.batch_size = batch_size\n",
        "        self.max_mem_size=max_mem_size\n",
        "        self.tracker = 0\n",
        "\n",
        "        self.Q_eval = DeepQNetwork(lr=self.lr,input_dims=input_dims,n_actions=self.action_space.n,fc1_dims=64,fc2_dims=128) #change\n",
        "        self.Q_eval_hat = DeepQNetwork(lr=self.lr,input_dims=input_dims,n_actions=self.action_space.n,fc1_dims=64,fc2_dims=128) #change\n",
        "        self.Q_eval_hat.load_state_dict(self.Q_eval.state_dict())\n",
        "        self.cnt=0\n",
        "\n",
        "        self.state_memory = np.zeros((self.max_mem_size,*input_dims),dtype=np.float)\n",
        "        self.new_state_memory = np.zeros((self.max_mem_size,*input_dims),dtype=np.float)\n",
        "\n",
        "        self.action_memory = np.zeros(self.max_mem_size, dtype=np.float)\n",
        "        self.reward_memory = np.zeros(self.max_mem_size, dtype=np.float)\n",
        "        self.terminal_memory = np.zeros(self.max_mem_size, dtype=np.bool)\n",
        "\n",
        "        self.C = C\n",
        "\n",
        "    def step(self,observation):\n",
        "\n",
        "      if random.uniform(0,1)<self.epsilon:\n",
        "        action = np.random.choice(self.action_space.n)\n",
        "        return action\n",
        "      else:\n",
        "      #  Ask Neural Network\n",
        "        state = T.tensor([observation]).to(self.Q_eval.device)\n",
        "        x = self.Q_eval.forward(state)\n",
        "        # return np.argmax(self.q_table[int(observation[0]),int(observation[1])])\n",
        "        return int(T.argmax(x))\n",
        "    \n",
        "    def store(self,state,action,reward,next_state,done):\n",
        "     # Storing Code starts\n",
        "      index = self.cnt%self.max_mem_size\n",
        "      self.state_memory[index] = state\n",
        "      self.new_state_memory[index] = next_state\n",
        "      self.action_memory[index] = action\n",
        "      self.reward_memory[index] = reward\n",
        "      self.terminal_memory[index] = done\n",
        "      # Storing Code Ends\n",
        "    def setEpsilon(self,epsilon):\n",
        "      self.epsilon = epsilon\n",
        "\n",
        "    def learn(self):\n",
        "          #New Code Starts\n",
        "\n",
        "          self.cnt+=1\n",
        "          if self.cnt<self.batch_size:\n",
        "            return\n",
        "          mem = min(self.cnt,self.max_mem_size)\n",
        "          batch = np.random.choice(mem,self.batch_size,replace=False)\n",
        "\n",
        "          # print(batch)\n",
        "          for index in batch:\n",
        "            self.Q_eval.optimizer.zero_grad()\n",
        "            # q_update = self.reward_memory[index]\n",
        "            q_update = T.tensor(float(self.reward_memory[index])).to(self.Q_eval.device)\n",
        "            if not self.terminal_memory[index]:\n",
        "              next_state_batch=T.tensor(self.new_state_memory[index]).to(self.Q_eval.device)     \n",
        "              q_next = self.Q_eval_hat.forward(next_state_batch)\n",
        "\n",
        "              q_update = self.reward_memory[index] + self.gamma*T.max(q_next)\n",
        "\n",
        "            state_batch=T.tensor(self.state_memory[index]).to(self.Q_eval.device)\n",
        "            q_val = self.Q_eval.forward(state_batch)\n",
        "            # q_val[int(self.action_memory[index])] = float(q_update)\n",
        "\n",
        "            q_update.detach()\n",
        "            loss = self.Q_eval.loss(q_update,q_val)\n",
        "            loss.backward()\n",
        "            self.Q_eval.optimizer.step()\n",
        "          \n",
        "          if self.cnt%self.C==0:\n",
        "            self.Q_eval_hat.load_state_dict(self.Q_eval.state_dict())\n"
      ],
      "execution_count": 15,
      "outputs": []
    },
    {
      "cell_type": "markdown",
      "metadata": {
        "id": "9-9RDDdf7PgJ"
      },
      "source": [
        "# Q-Learning Deterministic"
      ]
    },
    {
      "cell_type": "code",
      "metadata": {
        "id": "lk5ZDGwh7JeJ",
        "outputId": "f1b56fa0-e9e1-4725-a85c-5836d198e352",
        "colab": {
          "base_uri": "https://localhost:8080/"
        }
      },
      "source": [
        "# setting up environment and agent\n",
        "env = DeterministicEnv()\n",
        "agent = QlearningAgent(env=env,input_dims=[2],n_actions=4,epsilon=1.0,lr=0.001,gamma=0.95,batch_size=200,max_mem_size=1000,C=5)\n",
        "# agent = QlearningAgent(env,batch_size=64)\n",
        "# agent = Agent(gamma=0.99,epsilon=1.0,batch_size=64,n_actions=4,\n",
        "#               eps_end=0.01,input_dims=[8], lr=0.003)\n",
        "episodes = 500\n",
        "min_epsilon = 0.1\n",
        "\n",
        "q_d_epsilons = []\n",
        "q_d_rewards = []\n",
        "\n",
        "for episode in range(episodes):\n",
        "  obs = env.reset()\n",
        "  done = False\n",
        "  q_d_epsilons.append(agent.epsilon)\n",
        "\n",
        "  curr_reward = 0\n",
        "  print(episode)\n",
        "  while not done:\n",
        "    action = agent.step(obs)\n",
        "    state = np.copy(obs)\n",
        "    obs, reward, done, info = env.step(action)\n",
        "\n",
        "    curr_reward+= reward\n",
        "    next_state = np.copy(obs)\n",
        "    # agent.update(state,action,reward,next_state)\n",
        "    agent.store(state,action,reward,next_state,done)\n",
        "    agent.learn()\n",
        "\n",
        "  q_d_rewards.append(curr_reward)\n",
        "  epsilon = max(min_epsilon,agent.epsilon*0.999)\n",
        "  agent.setEpsilon(epsilon)"
      ],
      "execution_count": 16,
      "outputs": [
        {
          "output_type": "stream",
          "text": [
            "{(0, 0): 0.1, (0, 1): 0.2, (0, 2): 0.30000000000000004, (0, 3): 0.4, (0, 4): 0.5, (0, 5): 0.6, (1, 0): -0.05, (1, 1): -0.05, (1, 2): -0.05, (1, 3): -0.05, (1, 4): -0.05, (1, 5): 0.7, (2, 0): -0.05, (2, 1): -0.05, (2, 2): -0.05, (2, 3): -0.05, (2, 4): -0.05, (2, 5): 0.75, (3, 0): -0.05, (3, 1): -0.05, (3, 2): -0.05, (3, 3): -0.05, (3, 4): -0.05, (3, 5): 0.8, (4, 0): -0.05, (4, 1): -0.05, (4, 2): -0.05, (4, 3): -0.05, (4, 4): -0.05, (4, 5): 0.8500000000000001, (5, 0): -0.05, (5, 1): -0.05, (5, 2): -0.05, (5, 3): -0.05, (5, 4): -0.05, (5, 5): 1}\n",
            "\n",
            "0.1 0.2 0.30000000000000004 0.4 0.5 0.6 \n",
            "-0.05 -0.05 -0.05 -0.05 -0.05 0.7 \n",
            "-0.05 -0.05 -0.05 -0.05 -0.05 0.75 \n",
            "-0.05 -0.05 -0.05 -0.05 -0.05 0.8 \n",
            "-0.05 -0.05 -0.05 -0.05 -0.05 0.8500000000000001 \n",
            "-0.05 -0.05 -0.05 -0.05 -0.05 1 0\n",
            "1\n",
            "2\n",
            "3\n",
            "4\n",
            "5\n",
            "6\n",
            "7\n",
            "8\n",
            "9\n",
            "10\n",
            "11\n",
            "12\n",
            "13\n"
          ],
          "name": "stdout"
        },
        {
          "output_type": "stream",
          "text": [
            "/usr/local/lib/python3.6/dist-packages/torch/nn/modules/loss.py:446: UserWarning: Using a target size (torch.Size([4])) that is different to the input size (torch.Size([])). This will likely lead to incorrect results due to broadcasting. Please ensure they have the same size.\n",
            "  return F.mse_loss(input, target, reduction=self.reduction)\n"
          ],
          "name": "stderr"
        },
        {
          "output_type": "stream",
          "text": [
            "14\n",
            "15\n",
            "16\n",
            "17\n",
            "18\n",
            "19\n",
            "20\n",
            "21\n",
            "22\n",
            "23\n",
            "24\n",
            "25\n",
            "26\n",
            "27\n",
            "28\n",
            "29\n",
            "30\n",
            "31\n",
            "32\n",
            "33\n",
            "34\n",
            "35\n",
            "36\n",
            "37\n",
            "38\n",
            "39\n",
            "40\n",
            "41\n",
            "42\n",
            "43\n",
            "44\n",
            "45\n",
            "46\n",
            "47\n",
            "48\n",
            "49\n",
            "50\n",
            "51\n",
            "52\n",
            "53\n",
            "54\n",
            "55\n",
            "56\n",
            "57\n",
            "58\n",
            "59\n",
            "60\n",
            "61\n",
            "62\n",
            "63\n",
            "64\n",
            "65\n",
            "66\n",
            "67\n",
            "68\n",
            "69\n",
            "70\n",
            "71\n",
            "72\n",
            "73\n",
            "74\n",
            "75\n",
            "76\n",
            "77\n",
            "78\n",
            "79\n",
            "80\n",
            "81\n",
            "82\n",
            "83\n",
            "84\n",
            "85\n",
            "86\n",
            "87\n",
            "88\n",
            "89\n",
            "90\n",
            "91\n",
            "92\n",
            "93\n",
            "94\n",
            "95\n",
            "96\n",
            "97\n",
            "98\n",
            "99\n",
            "100\n",
            "101\n",
            "102\n",
            "103\n",
            "104\n",
            "105\n",
            "106\n",
            "107\n",
            "108\n",
            "109\n",
            "110\n",
            "111\n",
            "112\n",
            "113\n",
            "114\n",
            "115\n",
            "116\n",
            "117\n",
            "118\n",
            "119\n",
            "120\n",
            "121\n",
            "122\n",
            "123\n",
            "124\n",
            "125\n",
            "126\n",
            "127\n",
            "128\n",
            "129\n",
            "130\n",
            "131\n",
            "132\n",
            "133\n",
            "134\n",
            "135\n",
            "136\n",
            "137\n",
            "138\n",
            "139\n",
            "140\n",
            "141\n",
            "142\n",
            "143\n",
            "144\n",
            "145\n",
            "146\n",
            "147\n",
            "148\n",
            "149\n",
            "150\n",
            "151\n",
            "152\n",
            "153\n",
            "154\n",
            "155\n",
            "156\n",
            "157\n",
            "158\n",
            "159\n",
            "160\n",
            "161\n",
            "162\n",
            "163\n",
            "164\n",
            "165\n",
            "166\n",
            "167\n",
            "168\n",
            "169\n",
            "170\n",
            "171\n",
            "172\n",
            "173\n",
            "174\n",
            "175\n",
            "176\n",
            "177\n",
            "178\n",
            "179\n",
            "180\n",
            "181\n",
            "182\n",
            "183\n",
            "184\n",
            "185\n",
            "186\n",
            "187\n",
            "188\n",
            "189\n",
            "190\n",
            "191\n",
            "192\n",
            "193\n",
            "194\n",
            "195\n",
            "196\n",
            "197\n",
            "198\n",
            "199\n",
            "200\n",
            "201\n",
            "202\n",
            "203\n",
            "204\n",
            "205\n",
            "206\n",
            "207\n",
            "208\n",
            "209\n",
            "210\n",
            "211\n",
            "212\n",
            "213\n",
            "214\n",
            "215\n",
            "216\n",
            "217\n",
            "218\n",
            "219\n",
            "220\n",
            "221\n",
            "222\n",
            "223\n",
            "224\n",
            "225\n",
            "226\n",
            "227\n",
            "228\n",
            "229\n",
            "230\n",
            "231\n",
            "232\n",
            "233\n",
            "234\n",
            "235\n",
            "236\n",
            "237\n",
            "238\n",
            "239\n",
            "240\n",
            "241\n",
            "242\n",
            "243\n",
            "244\n",
            "245\n",
            "246\n",
            "247\n",
            "248\n",
            "249\n",
            "250\n",
            "251\n",
            "252\n",
            "253\n",
            "254\n",
            "255\n",
            "256\n",
            "257\n",
            "258\n",
            "259\n",
            "260\n",
            "261\n",
            "262\n",
            "263\n",
            "264\n",
            "265\n",
            "266\n",
            "267\n",
            "268\n",
            "269\n",
            "270\n",
            "271\n",
            "272\n",
            "273\n",
            "274\n",
            "275\n",
            "276\n",
            "277\n",
            "278\n",
            "279\n",
            "280\n",
            "281\n",
            "282\n",
            "283\n",
            "284\n",
            "285\n",
            "286\n",
            "287\n",
            "288\n",
            "289\n",
            "290\n",
            "291\n",
            "292\n",
            "293\n",
            "294\n",
            "295\n",
            "296\n",
            "297\n",
            "298\n",
            "299\n",
            "300\n",
            "301\n",
            "302\n",
            "303\n",
            "304\n",
            "305\n",
            "306\n",
            "307\n",
            "308\n",
            "309\n",
            "310\n",
            "311\n",
            "312\n",
            "313\n",
            "314\n",
            "315\n",
            "316\n",
            "317\n",
            "318\n",
            "319\n",
            "320\n",
            "321\n",
            "322\n",
            "323\n",
            "324\n",
            "325\n",
            "326\n",
            "327\n",
            "328\n",
            "329\n",
            "330\n",
            "331\n",
            "332\n",
            "333\n",
            "334\n",
            "335\n",
            "336\n",
            "337\n",
            "338\n",
            "339\n",
            "340\n",
            "341\n",
            "342\n",
            "343\n",
            "344\n",
            "345\n",
            "346\n",
            "347\n",
            "348\n",
            "349\n",
            "350\n",
            "351\n",
            "352\n",
            "353\n",
            "354\n",
            "355\n",
            "356\n",
            "357\n",
            "358\n",
            "359\n",
            "360\n",
            "361\n",
            "362\n",
            "363\n",
            "364\n",
            "365\n",
            "366\n",
            "367\n",
            "368\n",
            "369\n",
            "370\n",
            "371\n",
            "372\n",
            "373\n",
            "374\n",
            "375\n",
            "376\n",
            "377\n",
            "378\n",
            "379\n",
            "380\n",
            "381\n",
            "382\n",
            "383\n",
            "384\n",
            "385\n",
            "386\n",
            "387\n",
            "388\n",
            "389\n",
            "390\n",
            "391\n",
            "392\n",
            "393\n",
            "394\n",
            "395\n",
            "396\n",
            "397\n",
            "398\n",
            "399\n",
            "400\n",
            "401\n",
            "402\n",
            "403\n",
            "404\n",
            "405\n",
            "406\n",
            "407\n",
            "408\n",
            "409\n",
            "410\n",
            "411\n",
            "412\n",
            "413\n",
            "414\n",
            "415\n",
            "416\n",
            "417\n",
            "418\n",
            "419\n",
            "420\n",
            "421\n",
            "422\n",
            "423\n",
            "424\n",
            "425\n",
            "426\n",
            "427\n",
            "428\n",
            "429\n",
            "430\n",
            "431\n",
            "432\n",
            "433\n",
            "434\n",
            "435\n",
            "436\n",
            "437\n",
            "438\n",
            "439\n",
            "440\n",
            "441\n",
            "442\n",
            "443\n",
            "444\n",
            "445\n",
            "446\n",
            "447\n",
            "448\n",
            "449\n",
            "450\n",
            "451\n",
            "452\n",
            "453\n",
            "454\n",
            "455\n",
            "456\n",
            "457\n",
            "458\n",
            "459\n",
            "460\n",
            "461\n",
            "462\n",
            "463\n",
            "464\n",
            "465\n",
            "466\n",
            "467\n",
            "468\n",
            "469\n",
            "470\n",
            "471\n",
            "472\n",
            "473\n",
            "474\n",
            "475\n",
            "476\n",
            "477\n",
            "478\n",
            "479\n",
            "480\n",
            "481\n",
            "482\n",
            "483\n",
            "484\n",
            "485\n",
            "486\n",
            "487\n",
            "488\n",
            "489\n",
            "490\n",
            "491\n",
            "492\n",
            "493\n",
            "494\n",
            "495\n",
            "496\n",
            "497\n",
            "498\n",
            "499\n"
          ],
          "name": "stdout"
        }
      ]
    },
    {
      "cell_type": "code",
      "metadata": {
        "id": "Vwx05g1Kle6Q"
      },
      "source": [
        ""
      ],
      "execution_count": null,
      "outputs": []
    },
    {
      "cell_type": "code",
      "metadata": {
        "id": "7cVg7uXkfMeK"
      },
      "source": [
        ""
      ],
      "execution_count": null,
      "outputs": []
    },
    {
      "cell_type": "code",
      "metadata": {
        "id": "U68afmiDfklc"
      },
      "source": [
        ""
      ],
      "execution_count": null,
      "outputs": []
    },
    {
      "cell_type": "code",
      "metadata": {
        "id": "HSVseQyO48Tg",
        "outputId": "e08f0c68-24f5-499b-97ed-344f08619482",
        "colab": {
          "base_uri": "https://localhost:8080/",
          "height": 1000
        }
      },
      "source": [
        "env = DeterministicEnv()\n",
        "\n",
        "obs = env.reset()\n",
        "done = False\n",
        "agent.epsilon = 0\n",
        "env.render()\n",
        "plt.show()\n",
        "\n",
        "\n",
        "while not done:\n",
        "    action = agent.step(obs)\n",
        "    obs, reward, done, info = env.step(action)\n",
        "    env.render()\n",
        "    plt.show()"
      ],
      "execution_count": 17,
      "outputs": [
        {
          "output_type": "stream",
          "text": [
            "{(0, 0): 0.1, (0, 1): 0.2, (0, 2): 0.30000000000000004, (0, 3): 0.4, (0, 4): 0.5, (0, 5): 0.6, (1, 0): -0.05, (1, 1): -0.05, (1, 2): -0.05, (1, 3): -0.05, (1, 4): -0.05, (1, 5): 0.7, (2, 0): -0.05, (2, 1): -0.05, (2, 2): -0.05, (2, 3): -0.05, (2, 4): -0.05, (2, 5): 0.75, (3, 0): -0.05, (3, 1): -0.05, (3, 2): -0.05, (3, 3): -0.05, (3, 4): -0.05, (3, 5): 0.8, (4, 0): -0.05, (4, 1): -0.05, (4, 2): -0.05, (4, 3): -0.05, (4, 4): -0.05, (4, 5): 0.8500000000000001, (5, 0): -0.05, (5, 1): -0.05, (5, 2): -0.05, (5, 3): -0.05, (5, 4): -0.05, (5, 5): 1}\n",
            "\n",
            "0.1 0.2 0.30000000000000004 0.4 0.5 0.6 \n",
            "-0.05 -0.05 -0.05 -0.05 -0.05 0.7 \n",
            "-0.05 -0.05 -0.05 -0.05 -0.05 0.75 \n",
            "-0.05 -0.05 -0.05 -0.05 -0.05 0.8 \n",
            "-0.05 -0.05 -0.05 -0.05 -0.05 0.8500000000000001 \n",
            "-0.05 -0.05 -0.05 -0.05 -0.05 1 "
          ],
          "name": "stdout"
        },
        {
          "output_type": "display_data",
          "data": {
            "image/png": "[encoded data removed]",
            "text/plain": [
              "<Figure size 432x288 with 1 Axes>"
            ]
          },
          "metadata": {
            "tags": [],
            "needs_background": "light"
          }
        },
        {
          "output_type": "display_data",
          "data": {
            "image/png": "[encoded data removed]",
            "text/plain": [
              "<Figure size 432x288 with 1 Axes>"
            ]
          },
          "metadata": {
            "tags": [],
            "needs_background": "light"
          }
        },
        {
          "output_type": "display_data",
          "data": {
            "image/png": "[encoded data removed]",
            "text/plain": [
              "<Figure size 432x288 with 1 Axes>"
            ]
          },
          "metadata": {
            "tags": [],
            "needs_background": "light"
          }
        },
        {
          "output_type": "display_data",
          "data": {
            "image/png": "[encoded data removed]",
            "text/plain": [
              "<Figure size 432x288 with 1 Axes>"
            ]
          },
          "metadata": {
            "tags": [],
            "needs_background": "light"
          }
        },
        {
          "output_type": "display_data",
          "data": {
            "image/png": "[encoded data removed]",
            "text/plain": [
              "<Figure size 432x288 with 1 Axes>"
            ]
          },
          "metadata": {
            "tags": [],
            "needs_background": "light"
          }
        },
        {
          "output_type": "display_data",
          "data": {
            "image/png": "[encoded data removed]",
            "text/plain": [
              "<Figure size 432x288 with 1 Axes>"
            ]
          },
          "metadata": {
            "tags": [],
            "needs_background": "light"
          }
        },
        {
          "output_type": "display_data",
          "data": {
            "image/png": "[encoded data removed]",
            "text/plain": [
              "<Figure size 432x288 with 1 Axes>"
            ]
          },
          "metadata": {
            "tags": [],
            "needs_background": "light"
          }
        },
        {
          "output_type": "display_data",
          "data": {
            "image/png": "[encoded data removed]",
            "text/plain": [
              "<Figure size 432x288 with 1 Axes>"
            ]
          },
          "metadata": {
            "tags": [],
            "needs_background": "light"
          }
        },
        {
          "output_type": "display_data",
          "data": {
            "image/png": "[encoded data removed]",
            "text/plain": [
              "<Figure size 432x288 with 1 Axes>"
            ]
          },
          "metadata": {
            "tags": [],
            "needs_background": "light"
          }
        },
        {
          "output_type": "display_data",
          "data": {
            "image/png": "[encoded data removed]",
            "text/plain": [
              "<Figure size 432x288 with 1 Axes>"
            ]
          },
          "metadata": {
            "tags": [],
            "needs_background": "light"
          }
        },
        {
          "output_type": "display_data",
          "data": {
            "image/png": "[encoded data removed]",
            "text/plain": [
              "<Figure size 432x288 with 1 Axes>"
            ]
          },
          "metadata": {
            "tags": [],
            "needs_background": "light"
          }
        },
        {
          "output_type": "display_data",
          "data": {
            "image/png": "[encoded data removed]",
            "text/plain": [
              "<Figure size 432x288 with 1 Axes>"
            ]
          },
          "metadata": {
            "tags": [],
            "needs_background": "light"
          }
        },
        {
          "output_type": "display_data",
          "data": {
            "image/png": "[encoded data removed]",
            "text/plain": [
              "<Figure size 432x288 with 1 Axes>"
            ]
          },
          "metadata": {
            "tags": [],
            "needs_background": "light"
          }
        },
        {
          "output_type": "display_data",
          "data": {
            "image/png": "[encoded data removed]",
            "text/plain": [
              "<Figure size 432x288 with 1 Axes>"
            ]
          },
          "metadata": {
            "tags": [],
            "needs_background": "light"
          }
        },
        {
          "output_type": "display_data",
          "data": {
            "image/png": "[encoded data removed]",
            "text/plain": [
              "<Figure size 432x288 with 1 Axes>"
            ]
          },
          "metadata": {
            "tags": [],
            "needs_background": "light"
          }
        },
        {
          "output_type": "display_data",
          "data": {
            "image/png": "[encoded data removed]",
            "text/plain": [
              "<Figure size 432x288 with 1 Axes>"
            ]
          },
          "metadata": {
            "tags": [],
            "needs_background": "light"
          }
        }
      ]
    },
    {
      "cell_type": "code",
      "metadata": {
        "id": "r3fl7RsM49Qy",
        "outputId": "9674efb7-dc2a-4b4c-a3b0-1aad3df1fb09",
        "colab": {
          "base_uri": "https://localhost:8080/",
          "height": 296
        }
      },
      "source": [
        "window = 10\n",
        "plt.xlabel('DQ-Learning Deterministic Episode')\n",
        "plt.ylabel('Rewards')\n",
        "plt.plot([np.mean(q_d_rewards[tr:tr+window]) for tr in range(window, len(q_d_rewards))])"
      ],
      "execution_count": 18,
      "outputs": [
        {
          "output_type": "execute_result",
          "data": {
            "text/plain": [
              "[<matplotlib.lines.Line2D at 0x7f04fa0ccc18>]"
            ]
          },
          "metadata": {
            "tags": []
          },
          "execution_count": 18
        },
        {
          "output_type": "display_data",
          "data": {
            "image/png": "[encoded data removed]",
            "text/plain": [
              "<Figure size 432x288 with 1 Axes>"
            ]
          },
          "metadata": {
            "tags": [],
            "needs_background": "light"
          }
        }
      ]
    },
    {
      "cell_type": "code",
      "metadata": {
        "id": "PF04s0MC4K-4",
        "outputId": "02d3abaf-541d-49ac-ed4d-2661170e3363",
        "colab": {
          "base_uri": "https://localhost:8080/",
          "height": 296
        }
      },
      "source": [
        "plt.xlabel('DQN-Learning Episode')\n",
        "plt.ylabel('$\\epsilon$ (epsilon)')\n",
        "plt.plot(q_d_epsilons)"
      ],
      "execution_count": 19,
      "outputs": [
        {
          "output_type": "execute_result",
          "data": {
            "text/plain": [
              "[<matplotlib.lines.Line2D at 0x7f04fa070cf8>]"
            ]
          },
          "metadata": {
            "tags": []
          },
          "execution_count": 19
        },
        {
          "output_type": "display_data",
          "data": {
            "image/png": "[encoded data removed]",
            "text/plain": [
              "<Figure size 432x288 with 1 Axes>"
            ]
          },
          "metadata": {
            "tags": [],
            "needs_background": "light"
          }
        }
      ]
    }
  ]
}