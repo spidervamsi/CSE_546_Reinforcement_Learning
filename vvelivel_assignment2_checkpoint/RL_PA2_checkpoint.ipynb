{
  "nbformat": 4,
  "nbformat_minor": 0,
  "metadata": {
    "colab": {
      "name": "RL_PA2_checkpoint.ipynb",
      "provenance": []
    },
    "kernelspec": {
      "name": "python3",
      "display_name": "Python 3"
    },
    "accelerator": "GPU"
  },
  "cells": [
    {
      "cell_type": "code",
      "metadata": {
        "id": "2ctWf6Mk6e4U",
        "outputId": "95d049f7-765b-40cf-c2d5-4e97efb59e0a",
        "colab": {
          "base_uri": "https://localhost:8080/",
          "height": 119
        }
      },
      "source": [
        "!pip install gym"
      ],
      "execution_count": 21,
      "outputs": [
        {
          "output_type": "stream",
          "text": [
            "Requirement already satisfied: gym in /usr/local/lib/python3.6/dist-packages (0.17.3)\n",
            "Requirement already satisfied: pyglet<=1.5.0,>=1.4.0 in /usr/local/lib/python3.6/dist-packages (from gym) (1.5.0)\n",
            "Requirement already satisfied: cloudpickle<1.7.0,>=1.2.0 in /usr/local/lib/python3.6/dist-packages (from gym) (1.3.0)\n",
            "Requirement already satisfied: numpy>=1.10.4 in /usr/local/lib/python3.6/dist-packages (from gym) (1.18.5)\n",
            "Requirement already satisfied: scipy in /usr/local/lib/python3.6/dist-packages (from gym) (1.4.1)\n",
            "Requirement already satisfied: future in /usr/local/lib/python3.6/dist-packages (from pyglet<=1.5.0,>=1.4.0->gym) (0.16.0)\n"
          ],
          "name": "stdout"
        }
      ]
    },
    {
      "cell_type": "code",
      "metadata": {
        "id": "GULGB6GV91EI"
      },
      "source": [
        "import gym\n",
        "import math\n",
        "import random\n",
        "import numpy as np\n",
        "import matplotlib\n",
        "import matplotlib.pyplot as plt\n",
        "from collections import namedtuple\n",
        "from itertools import count\n",
        "from PIL import Image\n",
        "\n",
        "import torch as T\n",
        "import torch.nn as nn\n",
        "import torch.nn.functional as F\n",
        "import torch.optim as optim\n",
        "import numpy as np"
      ],
      "execution_count": 23,
      "outputs": []
    },
    {
      "cell_type": "code",
      "metadata": {
        "id": "foM_tz9U6nBp"
      },
      "source": [
        "import numpy as np\n",
        "import matplotlib.pyplot as plt\n",
        "import gym\n",
        "from gym import spaces\n",
        "import random\n",
        "from google.colab import widgets\n",
        "import time"
      ],
      "execution_count": 24,
      "outputs": []
    },
    {
      "cell_type": "markdown",
      "metadata": {
        "id": "x5PRL0SW6w0W"
      },
      "source": [
        "#Deterministic Environment"
      ]
    },
    {
      "cell_type": "code",
      "metadata": {
        "id": "Zg7xh3aX62Vm"
      },
      "source": [
        "class DeterministicEnv(gym.Env):\n",
        "  metadata = {'render.modes':[]}\n",
        "  def __init__(self):\n",
        "    self.table_dim = 6\n",
        "    self.observation_space = spaces.Discrete(self.table_dim*self.table_dim)\n",
        "    self.action_space = spaces.Discrete(4)\n",
        "    self.maxtimesteps=18 #change\n",
        "    self.rewardStates = dict()\n",
        "\n",
        "    for i in range(self.table_dim):\n",
        "      for j in range(self.table_dim):\n",
        "        self.rewardStates[(i,j)] = -1\n",
        "    # t=1\n",
        "    # for j in range(self.table_dim):\n",
        "    #   self.rewardStates[(0,j)] = t\n",
        "    #   t+=1\n",
        "    # t=1\n",
        "    # for i in range(self.table_dim):\n",
        "    #   self.rewardStates[(self.table_dim-1,j)] = t\n",
        "    #   t+=1\n",
        "\n",
        "    t=0.1\n",
        "    for j in range(self.table_dim):\n",
        "      self.rewardStates[(0,j)] = t\n",
        "      t+=0.1\n",
        "    for i in range(self.table_dim):\n",
        "      self.rewardStates[(self.table_dim-1,j)] = t\n",
        "      t+=0.1\n",
        "\n",
        "    self.rewardStates[(2,2)] = -1\n",
        "    self.rewardStates[(1,4)] = -4\n",
        "    self.rewardStates[(self.table_dim-1,self.table_dim-1)] = 100\n",
        "\n",
        "\n",
        "  def reset(self):\n",
        "    self.timesteps = 0\n",
        "    self.agent_pos = [0,0]\n",
        "    self.goal_pos = [self.table_dim-1,self.table_dim-1]\n",
        "    self.state = np.zeros((self.table_dim,self.table_dim))\n",
        "    self.state[tuple(self.agent_pos)] = 1\n",
        "    self.state[tuple(self.goal_pos)] = 0.5\n",
        "    self.state[2,2] = 0.3\n",
        "    self.state[1,4] = 0.3\n",
        "    observation = self.state.flatten()\n",
        "    return self.agent_pos\n",
        "\n",
        "\n",
        "\n",
        "  def step(self,action):\n",
        "    self.state = np.random.choice(self.observation_space.n)\n",
        "\n",
        "    if action == 0: #down\n",
        "      self.agent_pos[0] +=1\n",
        "    elif action==1: #up\n",
        "      self.agent_pos[0] -=1\n",
        "    elif action==2:#right\n",
        "      self.agent_pos[1] += 1\n",
        "    elif action==3: #left\n",
        "      self.agent_pos[1] -= 1\n",
        "    \n",
        "    self.agent_pos = np.clip(self.agent_pos,0,self.table_dim-1)\n",
        "    self.state = np.zeros((self.table_dim,self.table_dim))\n",
        "    self.state[tuple(self.agent_pos)] = 1\n",
        "    self.state[tuple(self.goal_pos)] = 0.5\n",
        "    self.state[2,2] = 0.3\n",
        "    self.state[1,4] = 0.3\n",
        "    observation = self.state.flatten()\n",
        "    reward = 0\n",
        "    if tuple(self.agent_pos) in self.rewardStates: #Checking if agent is in reward position\n",
        "      reward = self.rewardStates[tuple(self.agent_pos)]\n",
        "\n",
        "    self.timesteps +=1\n",
        "    done = False\n",
        "    if (self.timesteps >= self.maxtimesteps) or (tuple(self.agent_pos) == tuple(self.goal_pos)):#Ensuring Safety in AI\n",
        "      done = True \n",
        "    info = {}\n",
        "\n",
        "    return self.agent_pos, reward, done, info\n",
        "\n",
        "\n",
        "\n",
        "  def render(self):\n",
        "    plt.imshow(self.state)"
      ],
      "execution_count": 25,
      "outputs": []
    },
    {
      "cell_type": "markdown",
      "metadata": {
        "id": "195BejyBANLC"
      },
      "source": [
        "# DQN"
      ]
    },
    {
      "cell_type": "code",
      "metadata": {
        "id": "T_wuldUwAMUP"
      },
      "source": [
        "class DeepQNetwork(nn.Module):\n",
        "  def __init__(self,lr,fc1_dims,fc2_dims,n_actions):\n",
        "    super(DeepQNetwork, self).__init__()\n",
        "    self.fc1_dims = fc1_dims\n",
        "    self.fc2_dims = fc2_dims\n",
        "    self.n_actions = n_actions\n",
        "    self.fc1 = nn.Linear(2,self.fc1_dims)\n",
        "    self.fc2 = nn.Linear(self.fc1_dims, self.fc2_dims)\n",
        "    self.fc3 = nn.Linear(self.fc2_dims, self.n_actions)\n",
        "    self.optimizer = optim.Adam(self.parameters(),lr=lr)\n",
        "    self.loss = nn.MSELoss()\n",
        "    self.device = T.device('cuda:0' if T.cuda.is_available() else 'cpu')\n",
        "    self.to(self.device)\n",
        "\n",
        "  def forward(self, state):\n",
        "      layer1 = F.relu(self.fc1(state.float()))\n",
        "      layer2 = F.relu(self.fc2(layer1))\n",
        "      actions = self.fc3(layer2)\n",
        "\n",
        "      return actions"
      ],
      "execution_count": 26,
      "outputs": []
    },
    {
      "cell_type": "markdown",
      "metadata": {
        "id": "dObfI1A77CqG"
      },
      "source": [
        "# Q-Learning Agent"
      ]
    },
    {
      "cell_type": "code",
      "metadata": {
        "id": "hDnC0qeP7B1c"
      },
      "source": [
        "class QlearningAgent:\n",
        "    def __init__(self, env,batch_size,input_dims=2,epsilon=1.0,lr=0.6,gamma=0.9,n_actions=4,max_mem_size=1000):\n",
        "        self.env = env\n",
        "        self.observation_space = env.observation_space\n",
        "        self.action_space = env.action_space\n",
        "        q_table_dim = env.table_dim\n",
        "\n",
        "        self.q_table = np.zeros((q_table_dim,q_table_dim,env.action_space.n))\n",
        "        self.epsilon = epsilon\n",
        "        self.lr = lr\n",
        "        self.gamma = gamma\n",
        "\n",
        "        self.action_space = [i for i in range(n_actions)]\n",
        "        self.mem_size = max_mem_size\n",
        "        self.batch_size = batch_size\n",
        "        self.mem_ctr = 0\n",
        "\n",
        "        self.Q_eval = DeepQNetwork(lr=self.lr,n_actions=n_actions,fc1_dims=16,fc2_dims=16) #change\n",
        "        self.Q_eval_hat = DeepQNetwork(lr=self.lr,n_actions=n_actions,fc1_dims=16,fc2_dims=16) #change\n",
        "        #self.Q_eval_new = DeepQNetwork(lr=self.lr,n_actions=n_actions,fc1_dims=256,fc2_dims=256) #change\n",
        "        #self.Q_eval = self.Q_eval_new #Load state dictionary\n",
        "\n",
        "        self.state_memory = np.zeros((self.mem_size,input_dims),dtype=np.double)\n",
        "        self.new_state_memory = np.zeros((self.mem_size,input_dims),dtype=np.double)\n",
        "\n",
        "        self.action_memory = np.zeros(self.mem_size, dtype=np.double)\n",
        "        self.reward_memory = np.zeros(self.mem_size, dtype=np.double)\n",
        "        self.terminal_memory = np.zeros(self.mem_size, dtype=np.bool)\n",
        "\n",
        "    def store_transition(self, state, action, reward, state_, done):\n",
        "      index = self.mem_ctr % self.mem_size\n",
        "      self.state_memory[index] = state\n",
        "      self.new_state_memory[index] = state_\n",
        "      self.reward_memory[index] = reward\n",
        "      self.action_memory[index] = action\n",
        "      self.terminal_memory[index] = done\n",
        "\n",
        "      self.mem_ctr+=1\n",
        "\n",
        "    \n",
        "    def policy(self,observation):\n",
        "\n",
        "      if np.random.random() > self.epsilon:\n",
        "        state = T.tensor([observation]).to(self.Q_eval.device)\n",
        "        actions = self.Q_eval.forward(state)\n",
        "        action = T.argmax(actions).item()\n",
        "      else:\n",
        "        action = np.random.choice(self.action_space)\n",
        "      \n",
        "      return action\n",
        "     \n",
        "    def step(self, observation):\n",
        "        return self.policy(observation)\n",
        "    \n",
        "    def learn(self):\n",
        "      if self.mem_ctr < self.batch_size:\n",
        "        return\n",
        "      \n",
        "      self.Q_eval.optimizer.zero_grad()\n",
        "\n",
        "      max_mem = min(self.mem_ctr,self.mem_size)\n",
        "      batch = np.random.choice(max_mem,self.batch_size,replace=False)\n",
        "\n",
        "      batch_index = np.arange(self.batch_size, dtype=np.double)\n",
        "\n",
        "      state_batch = T.tensor(self.state_memory[batch]).to(self.Q_eval.device)\n",
        "      new_state_batch = T.tensor(self.new_state_memory[batch]).to(self.Q_eval.device)\n",
        "      reward_batch = T.tensor(self.reward_memory[batch]).to(self.Q_eval.device)\n",
        "      terminal_batch = T.tensor(self.terminal_memory[batch]).to(self.Q_eval.device)\n",
        "\n",
        "      action_batch = self.action_memory[batch]\n",
        "\n",
        "      q_eval = self.Q_eval.forward(state_batch)[batch_index,action_batch]\n",
        "      q_next = self.Q_eval.forward(new_state_batch)\n",
        "      q_next[terminal_batch] = 0.0\n",
        "\n",
        "      q_target = reward_batch + self.gamma*T.max(q_next,dim=1)[0]\n",
        "\n",
        "      loss = self.Q_eval.loss(q_target,q_eval).to(self.Q_eval.device)\n",
        "      # loss = self.Q_eval.loss(q_eval,q_target).to(self.Q_eval.device)\n",
        "      loss.backward()\n",
        "      self.Q_eval.optimizer.step()\n",
        "    \n",
        "    def setEpsilon(self,epsilon):\n",
        "      self.epsilon = epsilon"
      ],
      "execution_count": 27,
      "outputs": []
    },
    {
      "cell_type": "markdown",
      "metadata": {
        "id": "9-9RDDdf7PgJ"
      },
      "source": [
        "# Q-Learning Deterministic"
      ]
    },
    {
      "cell_type": "code",
      "metadata": {
        "id": "lk5ZDGwh7JeJ",
        "outputId": "0ff6950d-d359-49c1-8196-270cd5e9328b",
        "colab": {
          "base_uri": "https://localhost:8080/",
          "height": 1000
        }
      },
      "source": [
        "# setting up environment and agent\n",
        "env = DeterministicEnv()\n",
        "agent = QlearningAgent(env,batch_size=64)\n",
        "# agent = Agent(gamma=0.99,epsilon=1.0,batch_size=64,n_actions=4,\n",
        "#               eps_end=0.01,input_dims=[8], lr=0.003)\n",
        "episodes = 1000\n",
        "min_epsilon = 0.1\n",
        "\n",
        "q_d_epsilons = []\n",
        "q_d_rewards = []\n",
        "\n",
        "for episode in range(episodes):\n",
        "  obs = env.reset()\n",
        "  done = False\n",
        "  q_d_epsilons.append(agent.epsilon)\n",
        "\n",
        "  curr_reward = 0\n",
        "\n",
        "  while not done:\n",
        "    action = agent.step(obs)\n",
        "    state = np.copy(obs)\n",
        "    obs, reward, done, info = env.step(action)\n",
        "\n",
        "    curr_reward+= reward\n",
        "    next_state = np.copy(obs)\n",
        "    # agent.update(state,action,reward,next_state)\n",
        "    agent.store_transition(state,action,reward,next_state,done)\n",
        "    agent.learn()\n",
        "\n",
        "  q_d_rewards.append(curr_reward)\n",
        "  epsilon = max(min_epsilon,agent.epsilon*0.999)\n",
        "  agent.setEpsilon(epsilon)\n",
        "  if not episode%100:\n",
        "    env.render()\n",
        "    plt.show()\n",
        "    print('Episode {}'.format(episode))\n",
        "    print('Epsilon {}'.format(q_d_epsilons[-1]))\n",
        "    \n",
        "    print('***************************************************')"
      ],
      "execution_count": 28,
      "outputs": [
        {
          "output_type": "display_data",
          "data": {
            "image/png": "[encoded data removed]",
            "text/plain": [
              "<Figure size 432x288 with 1 Axes>"
            ]
          },
          "metadata": {
            "tags": [],
            "needs_background": "light"
          }
        },
        {
          "output_type": "stream",
          "text": [
            "Episode 0\n",
            "Epsilon 1.0\n",
            "***************************************************\n"
          ],
          "name": "stdout"
        },
        {
          "output_type": "display_data",
          "data": {
            "image/png": "[encoded data removed]",
            "text/plain": [
              "<Figure size 432x288 with 1 Axes>"
            ]
          },
          "metadata": {
            "tags": [],
            "needs_background": "light"
          }
        },
        {
          "output_type": "stream",
          "text": [
            "Episode 100\n",
            "Epsilon 0.9047921471137096\n",
            "***************************************************\n"
          ],
          "name": "stdout"
        },
        {
          "output_type": "display_data",
          "data": {
            "image/png": "[encoded data removed]",
            "text/plain": [
              "<Figure size 432x288 with 1 Axes>"
            ]
          },
          "metadata": {
            "tags": [],
            "needs_background": "light"
          }
        },
        {
          "output_type": "stream",
          "text": [
            "Episode 200\n",
            "Epsilon 0.818648829478636\n",
            "***************************************************\n"
          ],
          "name": "stdout"
        },
        {
          "output_type": "display_data",
          "data": {
            "image/png": "[encoded data removed]",
            "text/plain": [
              "<Figure size 432x288 with 1 Axes>"
            ]
          },
          "metadata": {
            "tags": [],
            "needs_background": "light"
          }
        },
        {
          "output_type": "stream",
          "text": [
            "Episode 300\n",
            "Epsilon 0.7407070321560997\n",
            "***************************************************\n"
          ],
          "name": "stdout"
        },
        {
          "output_type": "display_data",
          "data": {
            "image/png": "[encoded data removed]",
            "text/plain": [
              "<Figure size 432x288 with 1 Axes>"
            ]
          },
          "metadata": {
            "tags": [],
            "needs_background": "light"
          }
        },
        {
          "output_type": "stream",
          "text": [
            "Episode 400\n",
            "Epsilon 0.6701859060067403\n",
            "***************************************************\n"
          ],
          "name": "stdout"
        },
        {
          "output_type": "display_data",
          "data": {
            "image/png": "[encoded data removed]",
            "text/plain": [
              "<Figure size 432x288 with 1 Axes>"
            ]
          },
          "metadata": {
            "tags": [],
            "needs_background": "light"
          }
        },
        {
          "output_type": "stream",
          "text": [
            "Episode 500\n",
            "Epsilon 0.6063789448611848\n",
            "***************************************************\n"
          ],
          "name": "stdout"
        },
        {
          "output_type": "display_data",
          "data": {
            "image/png": "[encoded data removed]",
            "text/plain": [
              "<Figure size 432x288 with 1 Axes>"
            ]
          },
          "metadata": {
            "tags": [],
            "needs_background": "light"
          }
        },
        {
          "output_type": "stream",
          "text": [
            "Episode 600\n",
            "Epsilon 0.5486469074854965\n",
            "***************************************************\n"
          ],
          "name": "stdout"
        },
        {
          "output_type": "display_data",
          "data": {
            "image/png": "[encoded data removed]",
            "text/plain": [
              "<Figure size 432x288 with 1 Axes>"
            ]
          },
          "metadata": {
            "tags": [],
            "needs_background": "light"
          }
        },
        {
          "output_type": "stream",
          "text": [
            "Episode 700\n",
            "Epsilon 0.4964114134310989\n",
            "***************************************************\n"
          ],
          "name": "stdout"
        },
        {
          "output_type": "display_data",
          "data": {
            "image/png": "[encoded data removed]",
            "text/plain": [
              "<Figure size 432x288 with 1 Axes>"
            ]
          },
          "metadata": {
            "tags": [],
            "needs_background": "light"
          }
        },
        {
          "output_type": "stream",
          "text": [
            "Episode 800\n",
            "Epsilon 0.4491491486100748\n",
            "***************************************************\n"
          ],
          "name": "stdout"
        },
        {
          "output_type": "display_data",
          "data": {
            "image/png": "[encoded data removed]",
            "text/plain": [
              "<Figure size 432x288 with 1 Axes>"
            ]
          },
          "metadata": {
            "tags": [],
            "needs_background": "light"
          }
        },
        {
          "output_type": "stream",
          "text": [
            "Episode 900\n",
            "Epsilon 0.4063866225452039\n",
            "***************************************************\n"
          ],
          "name": "stdout"
        }
      ]
    },
    {
      "cell_type": "code",
      "metadata": {
        "id": "HSVseQyO48Tg",
        "outputId": "8c9ce67e-8098-4f3b-d285-7c5cf80c8dfc",
        "colab": {
          "base_uri": "https://localhost:8080/",
          "height": 1000
        }
      },
      "source": [
        "env = DeterministicEnv()\n",
        "\n",
        "obs = env.reset()\n",
        "done = False\n",
        "agent.epsilon = 0\n",
        "env.render()\n",
        "plt.show()\n",
        "\n",
        "\n",
        "while not done:\n",
        "    action = agent.step(obs)\n",
        "    obs, reward, done, info = env.step(action)\n",
        "    env.render()\n",
        "    plt.show()"
      ],
      "execution_count": 29,
      "outputs": [
        {
          "output_type": "display_data",
          "data": {
            "image/png": "[encoded data removed]",
            "text/plain": [
              "<Figure size 432x288 with 1 Axes>"
            ]
          },
          "metadata": {
            "tags": [],
            "needs_background": "light"
          }
        },
        {
          "output_type": "display_data",
          "data": {
            "image/png": "[encoded data removed]",
            "text/plain": [
              "<Figure size 432x288 with 1 Axes>"
            ]
          },
          "metadata": {
            "tags": [],
            "needs_background": "light"
          }
        },
        {
          "output_type": "display_data",
          "data": {
            "image/png": "[encoded data removed]",
            "text/plain": [
              "<Figure size 432x288 with 1 Axes>"
            ]
          },
          "metadata": {
            "tags": [],
            "needs_background": "light"
          }
        },
        {
          "output_type": "display_data",
          "data": {
            "image/png": "[encoded data removed]",
            "text/plain": [
              "<Figure size 432x288 with 1 Axes>"
            ]
          },
          "metadata": {
            "tags": [],
            "needs_background": "light"
          }
        },
        {
          "output_type": "display_data",
          "data": {
            "image/png": "[encoded data removed]",
            "text/plain": [
              "<Figure size 432x288 with 1 Axes>"
            ]
          },
          "metadata": {
            "tags": [],
            "needs_background": "light"
          }
        },
        {
          "output_type": "display_data",
          "data": {
            "image/png": "[encoded data removed]",
            "text/plain": [
              "<Figure size 432x288 with 1 Axes>"
            ]
          },
          "metadata": {
            "tags": [],
            "needs_background": "light"
          }
        },
        {
          "output_type": "display_data",
          "data": {
            "image/png": "[encoded data removed]",
            "text/plain": [
              "<Figure size 432x288 with 1 Axes>"
            ]
          },
          "metadata": {
            "tags": [],
            "needs_background": "light"
          }
        },
        {
          "output_type": "display_data",
          "data": {
            "image/png": "[encoded data removed]",
            "text/plain": [
              "<Figure size 432x288 with 1 Axes>"
            ]
          },
          "metadata": {
            "tags": [],
            "needs_background": "light"
          }
        },
        {
          "output_type": "display_data",
          "data": {
            "image/png": "[encoded data removed]",
            "text/plain": [
              "<Figure size 432x288 with 1 Axes>"
            ]
          },
          "metadata": {
            "tags": [],
            "needs_background": "light"
          }
        },
        {
          "output_type": "display_data",
          "data": {
            "image/png": "[encoded data removed]",
            "text/plain": [
              "<Figure size 432x288 with 1 Axes>"
            ]
          },
          "metadata": {
            "tags": [],
            "needs_background": "light"
          }
        },
        {
          "output_type": "display_data",
          "data": {
            "image/png": "[encoded data removed]",
            "text/plain": [
              "<Figure size 432x288 with 1 Axes>"
            ]
          },
          "metadata": {
            "tags": [],
            "needs_background": "light"
          }
        },
        {
          "output_type": "display_data",
          "data": {
            "image/png": "[encoded data removed]",
            "text/plain": [
              "<Figure size 432x288 with 1 Axes>"
            ]
          },
          "metadata": {
            "tags": [],
            "needs_background": "light"
          }
        },
        {
          "output_type": "display_data",
          "data": {
            "image/png": "[encoded data removed]",
            "text/plain": [
              "<Figure size 432x288 with 1 Axes>"
            ]
          },
          "metadata": {
            "tags": [],
            "needs_background": "light"
          }
        },
        {
          "output_type": "display_data",
          "data": {
            "image/png": "[encoded data removed]",
            "text/plain": [
              "<Figure size 432x288 with 1 Axes>"
            ]
          },
          "metadata": {
            "tags": [],
            "needs_background": "light"
          }
        },
        {
          "output_type": "display_data",
          "data": {
            "image/png": "[encoded data removed]",
            "text/plain": [
              "<Figure size 432x288 with 1 Axes>"
            ]
          },
          "metadata": {
            "tags": [],
            "needs_background": "light"
          }
        },
        {
          "output_type": "display_data",
          "data": {
            "image/png": "[encoded data removed]",
            "text/plain": [
              "<Figure size 432x288 with 1 Axes>"
            ]
          },
          "metadata": {
            "tags": [],
            "needs_background": "light"
          }
        },
        {
          "output_type": "display_data",
          "data": {
            "image/png": "[encoded data removed]",
            "text/plain": [
              "<Figure size 432x288 with 1 Axes>"
            ]
          },
          "metadata": {
            "tags": [],
            "needs_background": "light"
          }
        },
        {
          "output_type": "display_data",
          "data": {
            "image/png": "[encoded data removed]",
            "text/plain": [
              "<Figure size 432x288 with 1 Axes>"
            ]
          },
          "metadata": {
            "tags": [],
            "needs_background": "light"
          }
        },
        {
          "output_type": "display_data",
          "data": {
            "image/png": "[encoded data removed]",
            "text/plain": [
              "<Figure size 432x288 with 1 Axes>"
            ]
          },
          "metadata": {
            "tags": [],
            "needs_background": "light"
          }
        }
      ]
    },
    {
      "cell_type": "code",
      "metadata": {
        "id": "r3fl7RsM49Qy",
        "outputId": "776ea414-13c9-453b-e452-ddf4ce875d24",
        "colab": {
          "base_uri": "https://localhost:8080/",
          "height": 296
        }
      },
      "source": [
        "window = 10\n",
        "plt.xlabel('Q-Learning Deterministic Episode')\n",
        "plt.ylabel('Rewards')\n",
        "plt.plot([np.mean(q_d_rewards[tr:tr+window]) for tr in range(window, len(q_d_rewards))])"
      ],
      "execution_count": 30,
      "outputs": [
        {
          "output_type": "execute_result",
          "data": {
            "text/plain": [
              "[<matplotlib.lines.Line2D at 0x7f0900cfa9b0>]"
            ]
          },
          "metadata": {
            "tags": []
          },
          "execution_count": 30
        },
        {
          "output_type": "display_data",
          "data": {
            "image/png": "[encoded data removed]",
            "text/plain": [
              "<Figure size 432x288 with 1 Axes>"
            ]
          },
          "metadata": {
            "tags": [],
            "needs_background": "light"
          }
        }
      ]
    },
    {
      "cell_type": "code",
      "metadata": {
        "id": "PF04s0MC4K-4",
        "outputId": "c29880f2-f3c0-491f-d4e0-5b313bbd9676",
        "colab": {
          "base_uri": "https://localhost:8080/",
          "height": 296
        }
      },
      "source": [
        "plt.xlabel('DQN-Learning Episode')\n",
        "plt.ylabel('$\\epsilon$ (epsilon)')\n",
        "plt.plot(q_d_epsilons)"
      ],
      "execution_count": 32,
      "outputs": [
        {
          "output_type": "execute_result",
          "data": {
            "text/plain": [
              "[<matplotlib.lines.Line2D at 0x7f0900d13978>]"
            ]
          },
          "metadata": {
            "tags": []
          },
          "execution_count": 32
        },
        {
          "output_type": "display_data",
          "data": {
            "image/png": "[encoded data removed]",
            "text/plain": [
              "<Figure size 432x288 with 1 Axes>"
            ]
          },
          "metadata": {
            "tags": [],
            "needs_background": "light"
          }
        }
      ]
    }
  ]
}